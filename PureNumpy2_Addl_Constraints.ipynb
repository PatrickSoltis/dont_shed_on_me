{
 "cells": [
  {
   "cell_type": "code",
   "execution_count": 1,
   "metadata": {},
   "outputs": [],
   "source": [
    "#%%\n",
    "import numpy as np\n",
    "import matplotlib.pyplot as pyplot\n",
    "from cvxpy import *\n",
    "import pandas as pd"
   ]
  },
  {
   "cell_type": "code",
   "execution_count": 2,
   "metadata": {},
   "outputs": [],
   "source": [
    "#%% Data Imports\n",
    "\n",
    "#Apparent power values assume pf=0.95\n",
    "office = pd.read_csv('SF_Office_import.csv') #Office building - not used in model\n",
    "CARE = pd.read_csv('CARE_import.csv') #CARE/FERA residential\n",
    "a10 = pd.read_csv('a10_import.csv') #Fire station\n",
    "e1 = pd.read_csv('e1_import.csv') #Residential\n",
    "mbl = pd.read_csv('MBL_import.csv') #Medical baseline ???\n",
    "solar = pd.read_csv('solar_import.csv')"
   ]
  },
  {
   "cell_type": "code",
   "execution_count": 3,
   "metadata": {},
   "outputs": [
    {
     "data": {
      "text/plain": [
       "'\\n#Future iterations may need demand split between critical and non-critical portions.\\n#The following loop provides a numbered index for all columns in D_df:\\ni = -1\\nfor item in D_df.columns:\\n    i += 1\\n    print(i, item)\\n'"
      ]
     },
     "execution_count": 3,
     "metadata": {},
     "output_type": "execute_result"
    }
   ],
   "source": [
    "#%% Parameters A - Direct Objective Inputs (1-2)\n",
    "\n",
    "D_df = pd.read_csv('nodes.csv')\n",
    "\n",
    "#1 - Value ranking of different customer categories (5=highest priority, 1=lowest)\n",
    "R = np.array([[0, 0, 0, 0, 5, 4, 3, 2]])\n",
    "#Remaining length-8 arrays are only 1 dimension. \n",
    "# They will only be used in constraints at a single time.\n",
    "\n",
    "#Select hour numbers to use from load and solar data\n",
    "t0 = 12\n",
    "len_t = 1\n",
    "\n",
    "#2 - Load total power for each node into D\n",
    "D = D_df.iloc[t0:t0+len_t, [1,10,19,28,37,46,55,64]].to_numpy()\n",
    "D_P = D_df.iloc[t0:t0+len_t, [4,13,22,31,40,49,58,67]].to_numpy()\n",
    "D_Q = D_df.iloc[t0:t0+len_t, [7,16,25,34,43,52,61,70]].to_numpy()\n",
    "#Index as: D[hour number, node number]\n",
    "\n",
    "'''\n",
    "#Future iterations may need demand split between critical and non-critical portions.\n",
    "#The following loop provides a numbered index for all columns in D_df:\n",
    "i = -1\n",
    "for item in D_df.columns:\n",
    "    i += 1\n",
    "    print(i, item)\n",
    "'''"
   ]
  },
  {
   "cell_type": "code",
   "execution_count": 4,
   "metadata": {},
   "outputs": [
    {
     "name": "stdout",
     "output_type": "stream",
     "text": [
      "D: 25.566345057\n",
      "s_S: 7.4\n",
      "j_start: 18.0\n",
      "f_start: 30\n",
      "energy available: 55.4\n"
     ]
    }
   ],
   "source": [
    "# %% Parameters B (3-8)\n",
    "\n",
    "#3 - solar PV generation\n",
    "month = 'June' #select month of solar data (June/September/December)\n",
    "hourly_gen = np.array(solar[month+' (kW)'].values[t0:t0+len_t])\n",
    "zeros = np.zeros(len_t)\n",
    "s_S = np.array([zeros, hourly_gen, hourly_gen, zeros, zeros, zeros, zeros, zeros]).T\n",
    "#Index as: s_S[hour number, node number]\n",
    "\n",
    "#4 - battery energy (batteries at nodes 1 & 2, EV at 7)\n",
    "j_max = np.array([0, 9.5, 9.5, 0, 0, 0, 0, 95])\n",
    "j_start = np.array([0, 4.0, 4.0, 0, 0, 0, 0, 10])#arbitrarily chosen values\n",
    "\n",
    "#5 - diesel fuel (diesel generator at node 3)\n",
    "f_start = np.array([0, 0, 30, 0, 0, 0, 0, 0]) #arbitrarily chosen values\n",
    "\n",
    "#6 - power ratings\n",
    "b_rating = np.array([0, 8, 8, 0, 0, 0, 0, 10]) #battery\n",
    "d_rating = np.array([0, 0, 10, 0, 0, 0, 0, 0])\n",
    "\n",
    "#7 - power factors (currently is implicit 0.95 in D_df columns)\n",
    "#pf = np.full((1,8), 0.95)\n",
    "\n",
    "#8 - voltage limits\n",
    "V_min = 0.95\n",
    "V_max = 1.05\n",
    "\n",
    "# %% Check available energy\n",
    "print('D:',np.sum(D))\n",
    "print('s_S:',np.sum(s_S))\n",
    "print('j_start:',np.sum(j_start))\n",
    "print('f_start:',np.sum(f_start))\n",
    "print('energy available:',np.sum([np.sum(s_S),np.sum(j_start),np.sum(f_start)]))"
   ]
  },
  {
   "cell_type": "code",
   "execution_count": 5,
   "metadata": {},
   "outputs": [],
   "source": [
    "# %% Parameters C (9-11)\n",
    "\n",
    "j_idx = np.arange(8)\n",
    "\n",
    "#9 - Resistance and reactance\n",
    "r = np.array([0,0.1, 0.1, 0.1, 0.1, 0.1, 0.1, 0.1])\n",
    "x = np.array([0,0.01, 0.01, 0.01, 0.01, 0.01, 0.01, 0.01])\n",
    "\n",
    "#10 - Max current\n",
    "I_max = np.array([0,1.2, 1.2, 1.2, 1.2, 1.2, 1.2, 1.2])\n",
    "\n",
    "#11 - Adjacency matrix\n",
    "A = np.array([[0, 1, 1, 1, 1, 1, 1, 1],\n",
    "              [0, 0, 0, 0, 0, 0, 0, 0],\n",
    "              [0, 0, 0, 0, 0, 0, 0, 0],\n",
    "              [0, 0, 0, 0, 0, 0, 0, 0],\n",
    "              [0, 0, 0, 0, 0, 0, 0, 0],\n",
    "              [0, 0, 0, 0, 0, 0, 0, 0],\n",
    "              [0, 0, 0, 0, 0, 0, 0, 0],\n",
    "              [0, 0, 0, 0, 0, 0, 0, 0]])\n",
    "#A[i, j]=1 if i is the parent of j\n",
    "#Node 0 has no parent\n",
    "\n",
    "#Rho - Defines parent nodes in for loops\n",
    "rho = np.array([0, 0, 0, 0, 0, 0, 0, 0])"
   ]
  },
  {
   "cell_type": "code",
   "execution_count": 6,
   "metadata": {},
   "outputs": [
    {
     "data": {
      "text/plain": [
       "'\\n#9-11 - Line  variables\\nP = Variable((8,8,t)) #active power flow\\nQ = Variable((8,8,t)) #reactive power flow\\nL = Variable((8,8,t)) #squared magnitude of complex current\\n# ValueError: Expressions of dimension greater than 2 are not supported.\\n# Alternative version (above) squeezes into 2 dimensions since all nodes 1-7 have parent 0. \\n'"
      ]
     },
     "execution_count": 6,
     "metadata": {},
     "output_type": "execute_result"
    }
   ],
   "source": [
    "#%% Parameters D (12-)\n",
    "\n",
    "#12 - Time step\n",
    "dt = 1\n",
    "\n",
    "#13 - Inverter efficiencies\n",
    "nu_s = 1 #solar\n",
    "nu_b = 1 #battery\n",
    "#Efficiency already included in generator output. \n",
    "#Only matters for solar because solar input is total solar energy,\n",
    "#and for batteries because energy put in and out of system needs to be in terms of system.\n",
    "#Note values are not yet built into constraints\n",
    "\n",
    "# %% Optimization Variables\n",
    "#Variable shape: (rows, columns)\n",
    "\n",
    "#1 - Fraction of load served\n",
    "F = Variable((len_t,8))\n",
    "\n",
    "#2 - Load supplied (apparent, real, reactive)\n",
    "l_S = Variable((len_t,8))\n",
    "l_P = Variable((len_t,8))\n",
    "l_Q = Variable((len_t,8))\n",
    "\n",
    "#3 - Battery power dispatched (+) or stored (-)\n",
    "b_S = Variable((len_t,8))\n",
    "b_P = Variable((len_t,8))\n",
    "b_Q = Variable((len_t,8))\n",
    "\n",
    "#4 - Diesel power generated\n",
    "d_S = Variable((len_t,8))\n",
    "d_P = Variable((len_t,8))\n",
    "d_Q = Variable((len_t,8))\n",
    "\n",
    "#5 - Solar power (real and reactive)\n",
    "s_P = Variable((len_t,8))\n",
    "s_Q = Variable((len_t,8))\n",
    "#Currently solar only provides real power: s_P = s_S (in constraints)\n",
    "#So these are duplicative, but relevant if modeling inverter that can provide P and Q\n",
    "\n",
    "#6 - Net power\n",
    "s = Variable((len_t,8))\n",
    "p = Variable((len_t,8))\n",
    "q = Variable((len_t,8))\n",
    "\n",
    "#7 - Voltage\n",
    "V = Variable((len_t,8))\n",
    "\n",
    "#8 - Energy stock\n",
    "j = Variable((len_t,8)) #Battery state of charge\n",
    "f = Variable((len_t,8)) #Diesel fuel available\n",
    "\n",
    "#9-11 - Line variable\n",
    "P = Variable((len_t,8)) #active power flow\n",
    "Q = Variable((len_t,8)) #reactive power flow\n",
    "L = Variable((len_t,8)) #squared magnitude of complex current\n",
    "\n",
    "'''\n",
    "#9-11 - Line  variables\n",
    "P = Variable((8,8,t)) #active power flow\n",
    "Q = Variable((8,8,t)) #reactive power flow\n",
    "L = Variable((8,8,t)) #squared magnitude of complex current\n",
    "# ValueError: Expressions of dimension greater than 2 are not supported.\n",
    "# Alternative version (above) squeezes into 2 dimensions since all nodes 1-7 have parent 0. \n",
    "'''"
   ]
  },
  {
   "cell_type": "code",
   "execution_count": 7,
   "metadata": {},
   "outputs": [],
   "source": [
    "# %% Define objective function\n",
    "\n",
    "#objective = Maximize( sum(F@R.T) )\n",
    "objective = Minimize( -sum(F@R.T) )\n",
    "\n",
    "# %% Constraints 0\n",
    "\n",
    "#Nothing between node 0 and itself\n",
    "constraints = [ P[0] == 0, Q[0] == 0, L[0] == 0]\n",
    "#Fix node 0 voltage to be 1 p.u.\n",
    "constraints += [ V[0] == 1 ]"
   ]
  },
  {
   "cell_type": "code",
   "execution_count": 8,
   "metadata": {},
   "outputs": [],
   "source": [
    "# %% Constraints A (1-4)\n",
    "\n",
    "#1 - Net power consumed at each node\n",
    "# constraints += [ p == l_P-b_P-d_P-s_P ]\n",
    "# constraints += [ q == l_Q-b_Q-d_Q-s_Q ]\n",
    "# constraints += [ s == l_S-b_S-d_S-s_S ]\n",
    "\n",
    "#2 - No phantom batteries or generators\n",
    "no_batteries = [0, 3, 4, 5, 6]\n",
    "no_generator = [0, 1, 2, 4, 5, 6, 7]\n",
    "no_solar = [0, 3, 4, 5, 6, 7]\n",
    "\n",
    "for node in no_batteries:\n",
    "    constraints += [ b_S[:, node] == 0 ]\n",
    "    constraints += [ b_P[:, node] == 0 ]\n",
    "    constraints += [ b_Q[:, node] == 0 ]\n",
    "for node in no_generator:\n",
    "    constraints += [ d_S[:, node] == 0 ]\n",
    "    constraints += [ d_P[:, node] == 0 ]\n",
    "    constraints += [ d_Q[:, node] == 0 ]\n",
    "for node in no_solar:\n",
    "    constraints += [ s_P[:, node] == 0 ]\n",
    "    constraints += [ s_Q[:, node] == 0 ]\n",
    "    \n",
    "#3 - Define fraction of load served (may need to loop?)\n",
    "#constraints += [ F == l_S/D ]\n",
    "constraints += [ F == l_P/D_P ]\n",
    "\n",
    "#4 - Guarantee full load for critical nodes\n",
    "critical = [4, 5]\n",
    "for node in critical:\n",
    "    constraints += [ F[:, node] == 1. ]\n",
    "\n",
    "#4.x - Power delivered cannot exceed demand\n",
    "constraints += [ l_S <= D ]\n",
    "constraints += [ l_P <= D_P ]\n",
    "constraints += [ l_Q <= D_Q ]\n",
    "\n",
    "#Need to limit apparent power. In Homework, it was done this way:\n",
    "#constraints = [ s <= s_max ]\n",
    "#where s is apparent power generated at each node, and s was generator limit"
   ]
  },
  {
   "cell_type": "code",
   "execution_count": 9,
   "metadata": {},
   "outputs": [],
   "source": [
    "# %% Constraints B (5-6)\n",
    "\n",
    "#5 - Battery state of charge\n",
    "constraints += [ j[0] == j_start ]\n",
    "if len_t > 1:\n",
    "    for t in range(1,len_t):\n",
    "        constraints += [ j[t] == j[t-1] - b_S[t-1]*dt]\n",
    "for t in range(len_t):\n",
    "    constraints += [ 0 <= j[t], j[t] <= j_max]\n",
    "\n",
    "#6 - Fuel stock\n",
    "constraints += [ f[0] == f_start ]\n",
    "if len_t > 1:\n",
    "    for t in range(1, len_t):\n",
    "        constraints += [ f[t] == f[t-1] - d_S[t-1]*dt ]"
   ]
  },
  {
   "cell_type": "code",
   "execution_count": 10,
   "metadata": {},
   "outputs": [],
   "source": [
    "# %% Constraints C (7-9, 14)\n",
    "\n",
    "for t in range(len_t):\n",
    "    for jj in j_idx:\n",
    "        i = rho[jj]\n",
    "\n",
    "        #7 - DistFlow equations\n",
    "        constraints += [ P[t,jj] == p[t,jj] + r[jj]*L[t,jj] + A[jj]@P[t,:] ]\n",
    "        constraints += [ Q[t,jj] == q[t,jj] + x[jj]*L[t,jj] + A[jj]@Q[t,:] ]\n",
    "\n",
    "        #8 - Voltage drop\n",
    "        constraints += [ V[t,jj] - V[t,i] == (r[jj]**2 + x[jj]**2)*L[t,jj] - 2*(r[jj]*P[t,jj].T + x[jj]*Q[t,jj].T) ]\n",
    "\n",
    "        #9 - Squared current magnitude (relaxed)\n",
    "        constraints += [ quad_over_lin(vstack([P[t,jj],Q[t,jj]]), V[t,jj]) <= L[t,jj] ]\n",
    "\n",
    "        #14 - Definition of apparent power\n",
    "        constraints += [ norm(vstack([p[t,jj],q[t,jj]])) <= s[t,jj] ]\n",
    "        #Homework only checked this relationship generation, this is for net power\n",
    "        \n",
    "#         # New - Definition of apparent power for generation\n",
    "#         constraints += [ norm(vstack([s_P[t,jj],s_Q[t,jj]])) <= s_S[t,jj] ]\n",
    "#         constraints += [ norm(vstack([b_P[t,jj],b_Q[t,jj]])) <= b_S[t,jj] ]\n",
    "#         constraints += [ norm(vstack([d_P[t,jj],d_Q[t,jj]])) <= d_S[t,jj] ]"
   ]
  },
  {
   "cell_type": "code",
   "execution_count": 11,
   "metadata": {},
   "outputs": [
    {
     "data": {
      "text/plain": [
       "'\\n#Tried with sums\\nconstraints += [ sum(l_S) <= sum(s_S)+sum(b_S)+sum(d_S)]\\nconstraints += [ sum(l_P) <= sum(s_P)+sum(b_P)+sum(d_P)]\\nconstraints += [ sum(l_Q) <= sum(s_Q)+sum(b_Q)+d_Q]\\n'"
      ]
     },
     "execution_count": 11,
     "metadata": {},
     "output_type": "execute_result"
    }
   ],
   "source": [
    "# %% Constraints D (10)\n",
    "\n",
    "#10 - Battery and solar only emit real power\n",
    "constraints += [ s_P == s_S ]\n",
    "constraints += [ b_P == b_S ]\n",
    "\n",
    "'''\n",
    "#Tried with sums\n",
    "constraints += [ sum(l_S) <= sum(s_S)+sum(b_S)+sum(d_S)]\n",
    "constraints += [ sum(l_P) <= sum(s_P)+sum(b_P)+sum(d_P)]\n",
    "constraints += [ sum(l_Q) <= sum(s_Q)+sum(b_Q)+d_Q]\n",
    "'''"
   ]
  },
  {
   "cell_type": "code",
   "execution_count": 12,
   "metadata": {},
   "outputs": [],
   "source": [
    "# %% Constraints E (11-13)\n",
    "\n",
    "for t in range(len_t):\n",
    "    \n",
    "    #11 - Battery (dis)charging limit\n",
    "    constraints += [ -b_rating <= b_S[t], b_S[t] <= b_rating ]\n",
    "    constraints += [ 0 <= b_Q[t] ]\n",
    "\n",
    "    #12 - Generator output limit\n",
    "    constraints += [ b_S[t] <= d_rating ]\n",
    "\n",
    "#13 - Battery or generator does not discharge more than available\n",
    "if len_t > 1:\n",
    "    for t in range(1, len_t):\n",
    "        constraints += [ b_S[t]*dt <= j[t-1] ]\n",
    "        constraints += [ d_S[t]*dt <= f[t-1] ]\n",
    "else:\n",
    "    constraints += [ b_S[t]*dt <= j_start ]\n",
    "    constraints += [ d_S[t]*dt <= f_start ]\n",
    "#     constraints += [ d_P[t]*dt <= f_start ] #Commented out since this causes infeasible"
   ]
  },
  {
   "cell_type": "code",
   "execution_count": 13,
   "metadata": {},
   "outputs": [],
   "source": [
    "# %% Constraints F (15-16)\n",
    "\n",
    "for t in range(len_t):\n",
    "\n",
    "    #15 - Allowed voltages\n",
    "    constraints += [ V_min**2 <= V[t], V[t] <= V_max**2 ]\n",
    "\n",
    "#16 - Current limit\n",
    "constraints += [ L[t] <= I_max**2 ]"
   ]
  },
  {
   "cell_type": "code",
   "execution_count": 14,
   "metadata": {},
   "outputs": [],
   "source": [
    "# # %% Constraints G (new)\n",
    "# Ensure that power consumed/generated is greater than or equal to 0\n",
    "constraints += [l_S >= 0, \n",
    "                l_P >= 0, \n",
    "                l_Q >= 0, \n",
    "                d_S >= 0,\n",
    "                d_P >= 0, \n",
    "                d_Q >= 0, \n",
    "                s_P >= 0, \n",
    "                s_Q >= 0]\n",
    "\n",
    "# Ensure that power supplied l is less than or equal to power generated\n",
    "constraints += [sum(l_S) <= sum(b_S) + sum(d_S) + sum(s_S), \n",
    "                sum(l_P) <= sum(b_P) + sum(d_P) + sum(s_P),  \n",
    "                sum(l_Q) <= sum(b_Q) + sum(d_Q) + sum(s_Q)]"
   ]
  },
  {
   "cell_type": "code",
   "execution_count": 15,
   "metadata": {},
   "outputs": [
    {
     "name": "stdout",
     "output_type": "stream",
     "text": [
      "optimal\n",
      "-14.000000000223038\n",
      "Time   0\n",
      "Node  0 fraction served: 0.000\n",
      "Node  1 fraction served: 0.000\n",
      "Node  2 fraction served: 0.000\n",
      "Node  3 fraction served: 0.000\n",
      "Node  4 fraction served: 1.000\n",
      "Node  5 fraction served: 1.000\n",
      "Node  6 fraction served: 1.000\n",
      "Node  7 fraction served: 1.000\n"
     ]
    }
   ],
   "source": [
    "# %%\n",
    "prob = Problem(objective, constraints)\n",
    "prob.solve()\n",
    "print(prob.status)\n",
    "print(prob.value)\n",
    "\n",
    "# %%\n",
    "for t in range(len_t):\n",
    "    print(\"Time %3.0f\"%(t))\n",
    "    for jj in j_idx:\n",
    "        print(\"Node %2.0f fraction served: %1.3f\"%(jj, F[t,jj].value))"
   ]
  },
  {
   "cell_type": "markdown",
   "metadata": {},
   "source": [
    "**Look at Underlying Demand/Supply/Generation Values at Each Node**"
   ]
  },
  {
   "cell_type": "code",
   "execution_count": 31,
   "metadata": {
    "scrolled": true
   },
   "outputs": [
    {
     "data": {
      "text/html": [
       "<div>\n",
       "<style scoped>\n",
       "    .dataframe tbody tr th:only-of-type {\n",
       "        vertical-align: middle;\n",
       "    }\n",
       "\n",
       "    .dataframe tbody tr th {\n",
       "        vertical-align: top;\n",
       "    }\n",
       "\n",
       "    .dataframe thead th {\n",
       "        text-align: right;\n",
       "    }\n",
       "</style>\n",
       "<table border=\"1\" class=\"dataframe\">\n",
       "  <thead>\n",
       "    <tr style=\"text-align: right;\">\n",
       "      <th></th>\n",
       "      <th>App Demand</th>\n",
       "      <th>App Supply</th>\n",
       "      <th>App Battery</th>\n",
       "      <th>App Solar</th>\n",
       "      <th>App Diesel</th>\n",
       "      <th>Active Demand</th>\n",
       "      <th>Active Supply</th>\n",
       "      <th>Active Battery</th>\n",
       "      <th>Active Solar</th>\n",
       "      <th>Active Diesel</th>\n",
       "      <th>Reactive Demand</th>\n",
       "      <th>Reactive Supply</th>\n",
       "      <th>Reactive Battery</th>\n",
       "      <th>Reactive Solar</th>\n",
       "      <th>Reactive Diesel</th>\n",
       "    </tr>\n",
       "  </thead>\n",
       "  <tbody>\n",
       "    <tr>\n",
       "      <th>0</th>\n",
       "      <td>0.00</td>\n",
       "      <td>0.00</td>\n",
       "      <td>-0.00</td>\n",
       "      <td>0.0</td>\n",
       "      <td>-0.0</td>\n",
       "      <td>0.00</td>\n",
       "      <td>-0.00</td>\n",
       "      <td>-0.00</td>\n",
       "      <td>0.0</td>\n",
       "      <td>0.00</td>\n",
       "      <td>0.00</td>\n",
       "      <td>-0.00</td>\n",
       "      <td>0.00</td>\n",
       "      <td>0.00</td>\n",
       "      <td>0.00</td>\n",
       "    </tr>\n",
       "    <tr>\n",
       "      <th>1</th>\n",
       "      <td>0.00</td>\n",
       "      <td>0.00</td>\n",
       "      <td>-0.62</td>\n",
       "      <td>3.7</td>\n",
       "      <td>-0.0</td>\n",
       "      <td>0.00</td>\n",
       "      <td>-0.00</td>\n",
       "      <td>-0.62</td>\n",
       "      <td>3.7</td>\n",
       "      <td>0.00</td>\n",
       "      <td>0.00</td>\n",
       "      <td>-0.00</td>\n",
       "      <td>1.57</td>\n",
       "      <td>1.57</td>\n",
       "      <td>0.00</td>\n",
       "    </tr>\n",
       "    <tr>\n",
       "      <th>2</th>\n",
       "      <td>0.00</td>\n",
       "      <td>0.00</td>\n",
       "      <td>3.09</td>\n",
       "      <td>3.7</td>\n",
       "      <td>0.0</td>\n",
       "      <td>0.00</td>\n",
       "      <td>-0.00</td>\n",
       "      <td>3.09</td>\n",
       "      <td>3.7</td>\n",
       "      <td>0.00</td>\n",
       "      <td>0.00</td>\n",
       "      <td>-0.00</td>\n",
       "      <td>1.57</td>\n",
       "      <td>1.57</td>\n",
       "      <td>0.00</td>\n",
       "    </tr>\n",
       "    <tr>\n",
       "      <th>3</th>\n",
       "      <td>0.00</td>\n",
       "      <td>0.00</td>\n",
       "      <td>-0.00</td>\n",
       "      <td>0.0</td>\n",
       "      <td>-0.0</td>\n",
       "      <td>0.00</td>\n",
       "      <td>-0.00</td>\n",
       "      <td>-0.00</td>\n",
       "      <td>0.0</td>\n",
       "      <td>15.79</td>\n",
       "      <td>0.00</td>\n",
       "      <td>-0.00</td>\n",
       "      <td>0.00</td>\n",
       "      <td>0.00</td>\n",
       "      <td>1.57</td>\n",
       "    </tr>\n",
       "    <tr>\n",
       "      <th>4</th>\n",
       "      <td>1.36</td>\n",
       "      <td>0.68</td>\n",
       "      <td>-0.00</td>\n",
       "      <td>0.0</td>\n",
       "      <td>-0.0</td>\n",
       "      <td>1.29</td>\n",
       "      <td>1.29</td>\n",
       "      <td>-0.00</td>\n",
       "      <td>0.0</td>\n",
       "      <td>0.00</td>\n",
       "      <td>0.42</td>\n",
       "      <td>0.15</td>\n",
       "      <td>0.00</td>\n",
       "      <td>0.00</td>\n",
       "      <td>0.00</td>\n",
       "    </tr>\n",
       "    <tr>\n",
       "      <th>5</th>\n",
       "      <td>22.54</td>\n",
       "      <td>6.30</td>\n",
       "      <td>-0.00</td>\n",
       "      <td>0.0</td>\n",
       "      <td>-0.0</td>\n",
       "      <td>21.41</td>\n",
       "      <td>21.41</td>\n",
       "      <td>-0.00</td>\n",
       "      <td>0.0</td>\n",
       "      <td>0.00</td>\n",
       "      <td>7.04</td>\n",
       "      <td>4.15</td>\n",
       "      <td>0.00</td>\n",
       "      <td>0.00</td>\n",
       "      <td>0.00</td>\n",
       "    </tr>\n",
       "    <tr>\n",
       "      <th>6</th>\n",
       "      <td>0.63</td>\n",
       "      <td>0.36</td>\n",
       "      <td>-0.00</td>\n",
       "      <td>0.0</td>\n",
       "      <td>-0.0</td>\n",
       "      <td>0.60</td>\n",
       "      <td>0.60</td>\n",
       "      <td>-0.00</td>\n",
       "      <td>0.0</td>\n",
       "      <td>0.00</td>\n",
       "      <td>0.20</td>\n",
       "      <td>0.06</td>\n",
       "      <td>0.00</td>\n",
       "      <td>0.00</td>\n",
       "      <td>0.00</td>\n",
       "    </tr>\n",
       "    <tr>\n",
       "      <th>7</th>\n",
       "      <td>1.04</td>\n",
       "      <td>0.54</td>\n",
       "      <td>-0.53</td>\n",
       "      <td>0.0</td>\n",
       "      <td>-0.0</td>\n",
       "      <td>0.99</td>\n",
       "      <td>0.99</td>\n",
       "      <td>-0.53</td>\n",
       "      <td>0.0</td>\n",
       "      <td>0.00</td>\n",
       "      <td>0.32</td>\n",
       "      <td>0.11</td>\n",
       "      <td>1.57</td>\n",
       "      <td>0.00</td>\n",
       "      <td>0.00</td>\n",
       "    </tr>\n",
       "  </tbody>\n",
       "</table>\n",
       "</div>"
      ],
      "text/plain": [
       "   App Demand  App Supply  App Battery  App Solar  App Diesel  Active Demand  \\\n",
       "0        0.00        0.00        -0.00        0.0        -0.0           0.00   \n",
       "1        0.00        0.00        -0.62        3.7        -0.0           0.00   \n",
       "2        0.00        0.00         3.09        3.7         0.0           0.00   \n",
       "3        0.00        0.00        -0.00        0.0        -0.0           0.00   \n",
       "4        1.36        0.68        -0.00        0.0        -0.0           1.29   \n",
       "5       22.54        6.30        -0.00        0.0        -0.0          21.41   \n",
       "6        0.63        0.36        -0.00        0.0        -0.0           0.60   \n",
       "7        1.04        0.54        -0.53        0.0        -0.0           0.99   \n",
       "\n",
       "   Active Supply  Active Battery  Active Solar  Active Diesel  \\\n",
       "0          -0.00           -0.00           0.0           0.00   \n",
       "1          -0.00           -0.62           3.7           0.00   \n",
       "2          -0.00            3.09           3.7           0.00   \n",
       "3          -0.00           -0.00           0.0          15.79   \n",
       "4           1.29           -0.00           0.0           0.00   \n",
       "5          21.41           -0.00           0.0           0.00   \n",
       "6           0.60           -0.00           0.0           0.00   \n",
       "7           0.99           -0.53           0.0           0.00   \n",
       "\n",
       "   Reactive Demand  Reactive Supply  Reactive Battery  Reactive Solar  \\\n",
       "0             0.00            -0.00              0.00            0.00   \n",
       "1             0.00            -0.00              1.57            1.57   \n",
       "2             0.00            -0.00              1.57            1.57   \n",
       "3             0.00            -0.00              0.00            0.00   \n",
       "4             0.42             0.15              0.00            0.00   \n",
       "5             7.04             4.15              0.00            0.00   \n",
       "6             0.20             0.06              0.00            0.00   \n",
       "7             0.32             0.11              1.57            0.00   \n",
       "\n",
       "   Reactive Diesel  \n",
       "0             0.00  \n",
       "1             0.00  \n",
       "2             0.00  \n",
       "3             1.57  \n",
       "4             0.00  \n",
       "5             0.00  \n",
       "6             0.00  \n",
       "7             0.00  "
      ]
     },
     "execution_count": 31,
     "metadata": {},
     "output_type": "execute_result"
    }
   ],
   "source": [
    "outputs = pd.DataFrame({'App Demand':D[0],'App Supply':l_S.value[0], 'App Battery':b_S.value[0], \n",
    "                        'App Solar': s_S[0],'App Diesel':d_S.value[0], \n",
    "                        'Active Demand':D_P[0], 'Active Supply': l_P.value[0], 'Active Battery': b_P.value[0], \n",
    "                        'Active Solar':s_P.value[0], 'Active Diesel': d_P.value[0], \n",
    "                        'Reactive Demand': D_Q[0], 'Reactive Supply': l_Q.value[0], 'Reactive Battery':b_Q.value[0], \n",
    "                        'Reactive Solar': s_Q.value[0], 'Reactive Diesel': d_Q.value[0]}, \n",
    "                         dtype = float)\n",
    "outputs = outputs.round(2)\n",
    "outputs"
   ]
  },
  {
   "cell_type": "code",
   "execution_count": 85,
   "metadata": {},
   "outputs": [],
   "source": [
    "# Define function to take negative and positive data apart and cumulate\n",
    "def get_cumulated_array(data, **kwargs):\n",
    "    cum_arr = data.clip(**kwargs)\n",
    "    cum_arr = np.cumsum(cum_arr, axis=0)\n",
    "    d = np.zeros(np.shape(data))\n",
    "    d[1:] = cum_arr[:-1]\n",
    "    return d  "
   ]
  },
  {
   "cell_type": "code",
   "execution_count": 105,
   "metadata": {},
   "outputs": [
    {
     "data": {
      "image/png": "[encoded data removed]",
      "text/plain": [
       "<Figure size 432x288 with 1 Axes>"
      ]
     },
     "metadata": {
      "needs_background": "light"
     },
     "output_type": "display_data"
    }
   ],
   "source": [
    "# Define function to create plots\n",
    "import matplotlib.pyplot as plt\n",
    "def plots(supp, batt, solar, diesel, title, ylabel):\n",
    "    data = np.array([-supp, batt, solar, diesel])\n",
    "    data_shape = np.shape(data)\n",
    "    cumulated_data = get_cumulated_array(data, min=0)\n",
    "    cumulated_data_neg = get_cumulated_array(data, max=0)\n",
    "    row_mask = (data<0)\n",
    "    cumulated_data[row_mask] = cumulated_data_neg[row_mask]\n",
    "    data_stack = cumulated_data\n",
    "    labels = [\"Supply\", \"Battery\", \"Solar PV\", \"Diesel Generator\"]\n",
    "    fig = plt.figure()\n",
    "    ax = plt.subplot(111)\n",
    "    for i in np.arange(0, data_shape[0]):\n",
    "        ax.bar(np.arange(data_shape[1]), data[i], bottom=data_stack[i], label=labels[i],)\n",
    "    plt.axhline(color = 'black', linewidth = 0.5)\n",
    "    plt.legend()\n",
    "    plt.title(title)\n",
    "    plt.ylabel(ylabel)\n",
    "    plt.xlabel('Node')\n",
    "    maxes = [np.max(cumulated_data), np.max(data)]\n",
    "    plt.ylim(top = np.max(maxes)+2)\n",
    "    plt.show()\n",
    "\n",
    "plots(outputs['App Supply'], outputs['App Battery'], outputs['App Solar'], outputs['App Diesel'], \n",
    "      'Apparent Power', 'Apparent Power [kVA]')    "
   ]
  },
  {
   "cell_type": "code",
   "execution_count": 106,
   "metadata": {},
   "outputs": [
    {
     "data": {
      "image/png": "[encoded data removed]",
      "text/plain": [
       "<Figure size 432x288 with 1 Axes>"
      ]
     },
     "metadata": {
      "needs_background": "light"
     },
     "output_type": "display_data"
    }
   ],
   "source": [
    "# Plot Active Power\n",
    "plots(outputs['Active Supply'], outputs['Active Battery'], outputs['Active Solar'], outputs['Active Diesel'], \n",
    "      'Active Power', 'Active Power [kW]')"
   ]
  },
  {
   "cell_type": "code",
   "execution_count": 107,
   "metadata": {
    "scrolled": false
   },
   "outputs": [
    {
     "data": {
      "image/png": "[encoded data removed]",
      "text/plain": [
       "<Figure size 432x288 with 1 Axes>"
      ]
     },
     "metadata": {
      "needs_background": "light"
     },
     "output_type": "display_data"
    }
   ],
   "source": [
    "# Plot Reactive Power\n",
    "plots(outputs['Reactive Supply'], outputs['Reactive Battery'], outputs['Reactive Solar'], outputs['Reactive Diesel'], \n",
    "      'Reactive Power', 'Reactive Power [kVAR]')"
   ]
  },
  {
   "cell_type": "markdown",
   "metadata": {},
   "source": [
    "**Constraints Edited**"
   ]
  },
  {
   "cell_type": "markdown",
   "metadata": {},
   "source": [
    "Objective function\n",
    "\n",
    "- Changed objective function to max l_P*D_P\n",
    "- Reason: with max l_S*D, l_P turned out to be zero\n",
    "\n",
    "Constraints A\n",
    "- Removed 7 from list of nodes w/o battery\n",
    "- Add constraints requiring that b_P & b_Q be zero at non-battery nodes\n",
    "- Add constraints requiring that d_P & d_Q be zero at non-diesel gen nodes\n",
    "- Add constraints requiring that s_P & s_Q be zero at non-diesel gen nodes\n",
    "- Add constraint that l_P and l_Q are less than or equal to D_P and D_Q\n",
    "- (Temporarily) removed constraints for p, q, s (b/c originally seemed to make all gen at one node equal cons at one node, meaning it might be preventing power flow?). Need to figure out how to re-incorporate relationship between apparent/reactive/active power without leading to infeasible. \n",
    "\n",
    "Constraints C\n",
    "- Added apparent power constraint for solar (since otherwise s_S and s_P/s_Q are not related at all)\n",
    "\n",
    "Constraints E\n",
    "- Add else condition limiting b_S and d_S for single time step (if len_t = 1) based on j_start and f_start\n",
    "\n",
    "Constraints G (new)\n",
    "- Add constraint requiring that l_S, l_P, l_Q, d_S, d_P, d_Q, s_P, s_Q be PSD\n",
    "- Add constraint that sum(l_S) <= sum(b_S, d_S, s_S)\n",
    "    - Ensures that power provided is less than or equal to power generated\n",
    "- Same for _P and _Q\n",
    "- Think that we don’t need the following, but would be good to get a second opinion:\n",
    "    - Possibly add constraint that battery charged amount must be less than or equal to the sum of generation from diesel and solar minus energy provided l\n",
    "\n",
    "Questions\n",
    "- Does var[t] actually retrieve the row of the variable?\n",
    "    - E.g., for Constraints E, are we actually setting the entire row of b_S for that variable to 0?\n"
   ]
  },
  {
   "cell_type": "markdown",
   "metadata": {},
   "source": [
    "**Scratch Work**"
   ]
  },
  {
   "cell_type": "code",
   "execution_count": 20,
   "metadata": {},
   "outputs": [],
   "source": [
    "# print('Demand:')\n",
    "# D, D_P, D_Q"
   ]
  },
  {
   "cell_type": "code",
   "execution_count": 21,
   "metadata": {},
   "outputs": [],
   "source": [
    "# print('Apparent power for solar:')\n",
    "# s_S"
   ]
  },
  {
   "cell_type": "code",
   "execution_count": 22,
   "metadata": {
    "scrolled": true
   },
   "outputs": [],
   "source": [
    "# print('Apparent power for supply, battery, diesel gen, & solar:')\n",
    "# [[\"{:.1f}\".format(j.value[0, i]) for i in range(np.size(j.value))] for j in [l_S, b_S, d_S]]"
   ]
  },
  {
   "cell_type": "code",
   "execution_count": 23,
   "metadata": {
    "scrolled": true
   },
   "outputs": [],
   "source": [
    "# print('Active/real power for supply, battery, diesel gen, & solar:')\n",
    "# [[\"{:.1f}\".format(j.value[0, i]) for i in range(np.size(j.value))] for j in [l_P, b_P, d_P, s_P]]"
   ]
  },
  {
   "cell_type": "code",
   "execution_count": 24,
   "metadata": {},
   "outputs": [],
   "source": [
    "# print('Reactive power for supply, battery, diesel gen, & solar:')\n",
    "# [[\"{:.1f}\".format(j.value[0, i]) for i in range(np.size(j.value))] for j in [l_Q, b_Q, d_Q, s_Q]]"
   ]
  },
  {
   "cell_type": "code",
   "execution_count": 25,
   "metadata": {},
   "outputs": [],
   "source": [
    "# x = np.array(())\n",
    "# for j in [l_S, b_S, d_S, l_P, b_P, d_P, s_P, l_Q, b_Q, d_Q, s_Q]:\n",
    "#     for i in range(len(j.value[0])): \n",
    "#         x = np.append(x, j.value[0][i])\n",
    "#     print(j, ': ', x)"
   ]
  },
  {
   "cell_type": "code",
   "execution_count": 26,
   "metadata": {
    "scrolled": true
   },
   "outputs": [],
   "source": [
    "# items = ['supply', 'battery', 'diesel gen']\n",
    "# variables = [l_S, b_S, d_S]\n",
    "# for j in range(3): \n",
    "#     print('\\nApparent power for', items[j], ':')\n",
    "#     for jj in j_idx:\n",
    "#         print(\"Node %2.0f: %1.3f\"%(jj, variables[j].value[0, jj]))"
   ]
  },
  {
   "cell_type": "code",
   "execution_count": null,
   "metadata": {},
   "outputs": [],
   "source": [
    "# mins = []\n",
    "# [mins.append(np.min(i)) for i in v]\n",
    "# mins = np.min(mins)\n",
    "# mins"
   ]
  },
  {
   "cell_type": "code",
   "execution_count": 77,
   "metadata": {},
   "outputs": [
    {
     "data": {
      "image/png": "[encoded data removed]",
      "text/plain": [
       "<Figure size 432x288 with 1 Axes>"
      ]
     },
     "metadata": {
      "needs_background": "light"
     },
     "output_type": "display_data"
    }
   ],
   "source": [
    "# # Create plots\n",
    "# import matplotlib.pyplot as plt\n",
    "# def plots(supp, batt, solar, diesel, title, ylabel):\n",
    "#     ind = np.arange(8)\n",
    "#     plt.bar(ind, -supp, label = 'Supply')\n",
    "#     plt.bar(ind, batt, label = 'Battery', bottom = solar)\n",
    "#     plt.bar(ind, solar, label = 'Solar PV')\n",
    "#     plt.bar(ind, diesel, label = 'Diesel Generator')\n",
    "#     plt.title(title)\n",
    "#     plt.ylabel(ylabel)\n",
    "#     plt.xlabel('Node')\n",
    "#     plt.legend()\n",
    "#     plt.axhline(color = 'black', linewidth = 0.5)\n",
    "#     mins\n",
    "#     plt.show()\n",
    "# plots(outputs['App Supply'], outputs['App Battery'], outputs['App Solar'], outputs['App Diesel'], \n",
    "#       'Apparent Power', 'Apparent Power [kVA]')"
   ]
  },
  {
   "cell_type": "code",
   "execution_count": 80,
   "metadata": {},
   "outputs": [
    {
     "data": {
      "image/png": "[encoded data removed]",
      "text/plain": [
       "<Figure size 432x288 with 1 Axes>"
      ]
     },
     "metadata": {
      "needs_background": "light"
     },
     "output_type": "display_data"
    }
   ],
   "source": [
    "# # Create plots\n",
    "# import matplotlib.pyplot as plt\n",
    "# def plots(supp, batt, solar, diesel, title, ylabel):\n",
    "#     ind = np.arange(8)\n",
    "#     width = 0.25\n",
    "#     plt.bar(ind-2*width, -supp, width, label = 'Supply')\n",
    "#     plt.bar(ind-width, batt, width, label = 'Battery')\n",
    "#     plt.bar(ind+width, solar, width, label = 'Solar PV')\n",
    "#     plt.bar(ind+2*width, diesel, width, label = 'Diesel Generator')\n",
    "#     plt.title(title)\n",
    "#     plt.ylabel(ylabel)\n",
    "#     plt.xlabel('Node')\n",
    "#     plt.xticks(range(8))\n",
    "#     plt.legend()\n",
    "#     plt.axhline(color = 'black', linewidth = 0.5)\n",
    "#     mins\n",
    "#     plt.show()\n",
    "# plots(outputs['App Supply'], outputs['App Battery'], outputs['App Solar'], outputs['App Diesel'], \n",
    "#       'Apparent Power', 'Apparent Power [kVA]')"
   ]
  }
 ],
 "metadata": {
  "kernelspec": {
   "display_name": "Python 3",
   "language": "python",
   "name": "python3"
  },
  "language_info": {
   "codemirror_mode": {
    "name": "ipython",
    "version": 3
   },
   "file_extension": ".py",
   "mimetype": "text/x-python",
   "name": "python",
   "nbconvert_exporter": "python",
   "pygments_lexer": "ipython3",
   "version": "3.8.8"
  }
 },
 "nbformat": 4,
 "nbformat_minor": 4
}
